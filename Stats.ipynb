{
 "cells": [
  {
   "cell_type": "code",
   "execution_count": 2,
   "metadata": {},
   "outputs": [],
   "source": [
    "from random import randint, randrange\n",
    "import numpy as np\n",
    "import matplotlib.pyplot as plt "
   ]
  },
  {
   "cell_type": "code",
   "execution_count": 3,
   "metadata": {},
   "outputs": [
    {
     "data": {
      "text/plain": [
       "[21,\n",
       " 10,\n",
       " 16,\n",
       " 13,\n",
       " 15,\n",
       " 15,\n",
       " 17,\n",
       " 19,\n",
       " 17,\n",
       " 16,\n",
       " 15,\n",
       " 19,\n",
       " 19,\n",
       " 11,\n",
       " 16,\n",
       " 21,\n",
       " 14,\n",
       " 20,\n",
       " 20,\n",
       " 19]"
      ]
     },
     "execution_count": 3,
     "metadata": {},
     "output_type": "execute_result"
    }
   ],
   "source": [
    "x = [randint(10, 21) for i in range(20)]\n",
    "x"
   ]
  },
  {
   "cell_type": "code",
   "execution_count": 4,
   "metadata": {},
   "outputs": [],
   "source": [
    "def mean(arr):\n",
    "    sum_ = 0\n",
    "    for i in arr:\n",
    "        sum_ += i\n",
    "    m_ = sum_ / len(arr)\n",
    "    return m_"
   ]
  },
  {
   "cell_type": "code",
   "execution_count": 15,
   "metadata": {},
   "outputs": [
    {
     "data": {
      "image/png": "[encoded data removed]",
      "text/plain": [
       "<Figure size 432x288 with 1 Axes>"
      ]
     },
     "metadata": {
      "needs_background": "light"
     },
     "output_type": "display_data"
    }
   ],
   "source": [
    "font = {\"fontsize\":20, \"color\":\"red\"}\n",
    "m = mean(x)\n",
    "plt.plot(x, 'o')\n",
    "plt.plot([0, 20], [m, m], 'k--') \n",
    "for i in range(len(x)):\n",
    "    plt.plot([i, i], [m, x[i]], 'b-')\n",
    "plt.xlabel(\"INDEX\", fontdict=font)\n",
    "plt.ylabel(\"X VALUE\", fontdict=font)\n",
    "plt.xticks(range(20))\n",
    "plt.show()"
   ]
  },
  {
   "cell_type": "code",
   "execution_count": null,
   "metadata": {},
   "outputs": [],
   "source": []
  }
 ],
 "metadata": {
  "kernelspec": {
   "display_name": "Python 3",
   "language": "python",
   "name": "python3"
  },
  "language_info": {
   "codemirror_mode": {
    "name": "ipython",
    "version": 3
   },
   "file_extension": ".py",
   "mimetype": "text/x-python",
   "name": "python",
   "nbconvert_exporter": "python",
   "pygments_lexer": "ipython3",
   "version": "3.8.5"
  }
 },
 "nbformat": 4,
 "nbformat_minor": 4
}
